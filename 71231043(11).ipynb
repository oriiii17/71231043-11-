{
 "cells": [
  {
   "cell_type": "code",
   "execution_count": 5,
   "id": "ee2c92b6-3c74-4436-94c8-6336624f9485",
   "metadata": {},
   "outputs": [
    {
     "name": "stdout",
     "output_type": "stream",
     "text": [
      "dog\n",
      "{'anjing': 'hound', 'kucing': 'cat'}\n"
     ]
    }
   ],
   "source": [
    "# Cara membuat dictionary baru, menambahkan item, mengakses nilai berdasarkan kunci, dan mengubah nilai.\n",
    "kamus = {}  # Membuat dictionary baru\n",
    "kamus['anjing'] = 'dog'  # Menambahkan item\n",
    "kamus['kucing'] = 'cat'\n",
    "print(kamus['anjing'])  # Mengakses nilai dengan kunci\n",
    "kamus['anjing'] = 'hound'  # Mengubah nilai\n",
    "print(kamus)"
   ]
  },
  {
   "cell_type": "code",
   "execution_count": 7,
   "id": "058d3a5a-35bd-4783-a082-36210b5ec6c8",
   "metadata": {},
   "outputs": [
    {
     "data": {
      "text/plain": [
       "dict"
      ]
     },
     "execution_count": 7,
     "metadata": {},
     "output_type": "execute_result"
    }
   ],
   "source": [
    "# Penggunaan Tanda kurung kurawal {} \n",
    "kamus_kosong = {}\n",
    "type(kamus_kosong)"
   ]
  },
  {
   "cell_type": "code",
   "execution_count": 9,
   "id": "d45e4df6-7000-43c0-8251-ebdebaa8ee87",
   "metadata": {},
   "outputs": [
    {
     "name": "stdout",
     "output_type": "stream",
     "text": [
      "{'Python': 'Dinamis', 'Java': 'Statis', 'C++': 'Statis'}\n"
     ]
    }
   ],
   "source": [
    "# Tidak ada batasan urutan pada item di dalam dictionary.\n",
    "bahasa = {'Python': 'Dinamis', 'Java': 'Statis', 'C++': 'Statis'}\n",
    "print(bahasa)"
   ]
  },
  {
   "cell_type": "code",
   "execution_count": 10,
   "id": "04d90a4d-6e2d-4079-9ffa-735d0654a1c4",
   "metadata": {},
   "outputs": [
    {
     "data": {
      "text/plain": [
       "3"
      ]
     },
     "execution_count": 10,
     "metadata": {},
     "output_type": "execute_result"
    }
   ],
   "source": [
    "# Fungsi len() menghitung jumlah pasangan kunci-nilai dalam dictionary.\n",
    "len(bahasa)"
   ]
  },
  {
   "cell_type": "code",
   "execution_count": null,
   "id": "7950c5c6-e4c0-4b22-bf6d-32d87a12adeb",
   "metadata": {},
   "outputs": [],
   "source": [
    "# Penanganan jika kunci yang dicari tidak ada dalam dictionary.\n",
    ">>> print(bahasa.get('Ruby', 'Tidak ditemukan'))\n",
    "Tidak ditemukan"
   ]
  },
  {
   "cell_type": "code",
   "execution_count": 12,
   "id": "b0e0b270-e22b-43ff-b9c1-5f82e80485bd",
   "metadata": {},
   "outputs": [
    {
     "name": "stdout",
     "output_type": "stream",
     "text": [
      "True\n",
      "False\n",
      "True\n",
      "False\n",
      "True\n",
      "False\n"
     ]
    }
   ],
   "source": [
    "# Operator in \n",
    "mahasiswa = {'Andi': 20, 'Budi': 21, 'Cici': 22}\n",
    "\n",
    "print('Andi' in mahasiswa)  \n",
    "print('Dani' in mahasiswa)\n",
    "\n",
    "print(20 in mahasiswa.values())  \n",
    "print(25 in mahasiswa.values())  \n",
    "\n",
    "nilai = list(mahasiswa.values())\n",
    "print(20 in nilai)\n",
    "print(25 in nilai) "
   ]
  },
  {
   "cell_type": "code",
   "execution_count": null,
   "id": "34d8cd1b-4282-426c-9a2a-8ecf9d8938dd",
   "metadata": {},
   "outputs": [],
   "source": [
    "kamus = {}\n",
    "with open('data.txt', 'r') as file:\n",
    "    for baris in file:\n",
    "        kunci, nilai = baris.strip().split(':')\n",
    "        kamus[kunci] = nilai"
   ]
  },
  {
   "cell_type": "code",
   "execution_count": null,
   "id": "07cffcea-cdd5-4294-ad6b-b7281cac81e9",
   "metadata": {},
   "outputs": [],
   "source": [
    "kamus = {'nama': 'Budi', 'umur': 25, 'alamat': 'Jakarta'}\n",
    "with open('data.txt', 'w') as file:\n",
    "    for kunci, nilai in kamus.items():\n",
    "        file.write(f'{kunci}:{nilai}\\n')"
   ]
  },
  {
   "cell_type": "code",
   "execution_count": null,
   "id": "699e7a92-fd60-4938-945d-3337d67d51a0",
   "metadata": {},
   "outputs": [],
   "source": [
    "file = open('file.txt')\n",
    "for baris in file:\n",
    "    ...  # proses parsing baris\n",
    "    kata_kunci, nilai = baris.split(':')\n",
    "    kamus[kata_kunci] = nilai"
   ]
  },
  {
   "cell_type": "code",
   "execution_count": 13,
   "id": "c19b2b8d-839f-46b4-b52a-a49b35a11692",
   "metadata": {},
   "outputs": [
    {
     "name": "stdout",
     "output_type": "stream",
     "text": [
      "Key: 1\tValue: 10\tItem: 1\n",
      "Key: 2\tValue: 20\tItem: 2\n",
      "Key: 3\tValue: 30\tItem: 3\n",
      "Key: 4\tValue: 40\tItem: 4\n",
      "Key: 5\tValue: 50\tItem: 5\n",
      "Key: 6\tValue: 60\tItem: 6\n"
     ]
    }
   ],
   "source": [
    "# Latihan 10.1\n",
    "dictionary = {1: 10, 2: 20, 3: 30, 4: 40, 5: 50, 6: 60}\n",
    "\n",
    "for key, value in dictionary.items():\n",
    "    print(f\"Key: {key}\\tValue: {value}\\tItem: {key}\")"
   ]
  },
  {
   "cell_type": "code",
   "execution_count": 14,
   "id": "625c075c-4866-462c-a001-b9f5bea904ac",
   "metadata": {},
   "outputs": [
    {
     "name": "stdout",
     "output_type": "stream",
     "text": [
      "{'red': '#FF0000', 'green': '#008000', 'blue': '#0000FF'}\n"
     ]
    }
   ],
   "source": [
    "# Latihan 10.2\n",
    "data_list1 = ['red', 'green', 'blue']\n",
    "data_list2 = ['#FF0000', '#008000', '#0000FF']\n",
    "\n",
    "dictionary = dict(zip(data_list1, data_list2))\n",
    "print(dictionary)"
   ]
  },
  {
   "cell_type": "code",
   "execution_count": null,
   "id": "a408dfbb-865b-4ffe-8d4f-0210d8f7961e",
   "metadata": {},
   "outputs": [],
   "source": [
    "# Latihan 10.3\n",
    "with open('mbox-short.txt') as file:\n",
    "    email_histogram = {}\n",
    "    for line in file:\n",
    "        if line.startswith('From:'):\n",
    "            email = line.split()[1]\n",
    "            email_histogram[email] = email_histogram.get(email, 0) + 1\n",
    "\n",
    "for email, count in email_histogram.items():\n",
    "    print(f\"{email} {count}\")"
   ]
  },
  {
   "cell_type": "code",
   "execution_count": null,
   "id": "200883a0-f668-4661-aa7e-a2c88c9a8385",
   "metadata": {},
   "outputs": [],
   "source": [
    "# Latihan 10.4\n",
    "with open('mbox-short.txt') as file:\n",
    "    domain_histogram = {}\n",
    "    for line in file:\n",
    "        if line.startswith('From:'):\n",
    "            email = line.split()[1]\n",
    "            domain = email.split('@')[1]\n",
    "            domain_histogram[domain] = domain_histogram.get(domain, 0) + 1\n",
    "\n",
    "for domain, count in domain_histogram.items():\n",
    "    print(f\"{domain} {count}\")"
   ]
  },
  {
   "cell_type": "code",
   "execution_count": null,
   "id": "d8547198-90be-438a-8dae-58ae4ae7e28f",
   "metadata": {},
   "outputs": [],
   "source": []
  }
 ],
 "metadata": {
  "kernelspec": {
   "display_name": "Python 3 (ipykernel)",
   "language": "python",
   "name": "python3"
  },
  "language_info": {
   "codemirror_mode": {
    "name": "ipython",
    "version": 3
   },
   "file_extension": ".py",
   "mimetype": "text/x-python",
   "name": "python",
   "nbconvert_exporter": "python",
   "pygments_lexer": "ipython3",
   "version": "3.11.7"
  }
 },
 "nbformat": 4,
 "nbformat_minor": 5
}
